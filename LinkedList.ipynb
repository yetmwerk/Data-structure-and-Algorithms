{
 "cells": [
  {
   "cell_type": "code",
   "execution_count": null,
   "id": "86e73edc",
   "metadata": {},
   "outputs": [],
   "source": [
    "class Node:\n",
    "    def __init__(self, data):\n",
    "        self.data = data\n",
    "        self.next = None\n",
    "\n",
    "class LinkedList:\n",
    "    def __init__(self):\n",
    "        self.head = None\n",
    "    def insert__at__end (self, data):\n",
    "        new_node = Node(data)\n",
    "        if self.head is None:\n",
    "            self.head = new_node\n",
    "            return\n",
    "        last = self.head\n",
    "        while last.next:\n",
    "            last = last.nex\n",
    "        last.next = new_node\n",
    "    def display(self):\n",
    "        current = self.head\n",
    "        while current:\n",
    "            print(current.data, end=\" -> \")\n",
    "            current = current.next\n",
    "        print(\"None\")"
   ]
  },
  {
   "cell_type": "code",
   "execution_count": null,
   "id": "9f53c4c8",
   "metadata": {},
   "outputs": [],
   "source": [
    "Linked1=linkedList()"
   ]
  },
  {
   "cell_type": "code",
   "execution_count": 55,
   "id": "2dcccfac",
   "metadata": {},
   "outputs": [
    {
     "name": "stdout",
     "output_type": "stream",
     "text": [
      "35 -> 33 -> 56 -> None\n"
     ]
    }
   ],
   "source": [
    "Linked1. display()"
   ]
  },
  {
   "cell_type": "code",
   "execution_count": 50,
   "id": "53658276",
   "metadata": {},
   "outputs": [],
   "source": [
    "Linked1.insert__at__end(35)"
   ]
  },
  {
   "cell_type": "code",
   "execution_count": 52,
   "id": "f1cd6a5d",
   "metadata": {},
   "outputs": [],
   "source": [
    "Linked1.insert__at__end(33)"
   ]
  },
  {
   "cell_type": "code",
   "execution_count": 54,
   "id": "d76a45e4",
   "metadata": {},
   "outputs": [],
   "source": [
    "Linked1.insert__at__end(56)"
   ]
  },
  {
   "cell_type": "code",
   "execution_count": 58,
   "id": "33b06018",
   "metadata": {},
   "outputs": [],
   "source": [
    "class Node:\n",
    "    def __init__(self, data):\n",
    "        self.data = data\n",
    "        self.next = None\n",
    "\n",
    "class LinkedList:\n",
    "    def __init__(self):\n",
    "        self.head = None\n",
    "\n",
    "    def insert_at_beginning(self, new_data):\n",
    "        new_node = Node(new_data)\n",
    "        new_node.next = self.head\n",
    "        self.head = new_node\n",
    "\n",
    "    def display(self):\n",
    "        current = self.head\n",
    "        while current:\n",
    "            print(current.data, end=\" -> \")\n",
    "            current = current.next\n",
    "        print(\"None\")\n"
   ]
  },
  {
   "cell_type": "code",
   "execution_count": 60,
   "id": "b558d4cd",
   "metadata": {},
   "outputs": [],
   "source": [
    "LinkedList=LinkedList()"
   ]
  },
  {
   "cell_type": "code",
   "execution_count": 62,
   "id": "06190332",
   "metadata": {},
   "outputs": [],
   "source": [
    "LinkedList.insert_at_beginning(44)"
   ]
  },
  {
   "cell_type": "code",
   "execution_count": 65,
   "id": "e3fc7c59",
   "metadata": {},
   "outputs": [
    {
     "name": "stdout",
     "output_type": "stream",
     "text": [
      "4 -> 44 -> None\n"
     ]
    }
   ],
   "source": [
    "LinkedList.display()"
   ]
  },
  {
   "cell_type": "code",
   "execution_count": 64,
   "id": "22883193",
   "metadata": {},
   "outputs": [],
   "source": [
    "LinkedList.insert_at_beginning(4)"
   ]
  },
  {
   "cell_type": "code",
   "execution_count": 3,
   "id": "1417f5c7",
   "metadata": {},
   "outputs": [],
   "source": [
    "class Node:\n",
    "    def __init__(self, data):\n",
    "        self.data = data\n",
    "        self.next = None\n",
    "\n",
    "class LinkedList:\n",
    "    def __init__(self):\n",
    "        self.head = None\n",
    "\n",
    "    def insert_at_position(self, position, new_data):\n",
    "        new_node = Node(new_data)\n",
    "        if position == 0:\n",
    "            new_node.next = self.head\n",
    "            self.head = new_node\n",
    "            return\n",
    "        current = self.head\n",
    "        count = 0\n",
    "        while current and count < position - 1:\n",
    "            current = current.next\n",
    "            count += 1\n",
    "        if current is None:\n",
    "            print(\"Position out of bounds\")\n",
    "            return\n",
    "        new_node.next = current.next\n",
    "        current.next = new_node\n",
    "\n",
    "    def display(self):\n",
    "        current = self.head\n",
    "        while current:\n",
    "            print(current.data, end=\" -> \")\n",
    "            current = current.next\n",
    "        print(\"None\")\n",
    "\n"
   ]
  },
  {
   "cell_type": "code",
   "execution_count": 4,
   "id": "44d1b953",
   "metadata": {},
   "outputs": [],
   "source": [
    "LinkedList=LinkedList()"
   ]
  },
  {
   "cell_type": "code",
   "execution_count": 7,
   "id": "f4129f80",
   "metadata": {},
   "outputs": [
    {
     "name": "stdout",
     "output_type": "stream",
     "text": [
      "Position out of bounds\n"
     ]
    }
   ],
   "source": [
    "LinkedList.insert_at_position(23,0)"
   ]
  },
  {
   "cell_type": "code",
   "execution_count": 8,
   "id": "bf9c0433",
   "metadata": {},
   "outputs": [
    {
     "name": "stdout",
     "output_type": "stream",
     "text": [
      "None\n"
     ]
    }
   ],
   "source": [
    "LinkedList.display()"
   ]
  },
  {
   "cell_type": "code",
   "execution_count": null,
   "id": "435ccbfa",
   "metadata": {},
   "outputs": [],
   "source": []
  }
 ],
 "metadata": {
  "kernelspec": {
   "display_name": "Python 3",
   "language": "python",
   "name": "python3"
  },
  "language_info": {
   "codemirror_mode": {
    "name": "ipython",
    "version": 3
   },
   "file_extension": ".py",
   "mimetype": "text/x-python",
   "name": "python",
   "nbconvert_exporter": "python",
   "pygments_lexer": "ipython3",
   "version": "3.13.1"
  }
 },
 "nbformat": 4,
 "nbformat_minor": 5
}
