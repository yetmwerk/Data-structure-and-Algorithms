{
 "cells": [
  {
   "cell_type": "markdown",
   "id": "77209ccd",
   "metadata": {},
   "source": [
    "\n",
    "<h1 style=\"color:yellow text-align:center\">Data Structure and Algorithm</h1>\n",
    "<div style=\"margin-left:200px\">\n",
    "<h5>NAME: YETMWERK MULUNEH<br>\n",
    "ID:  DBU1601743<br>\n",
    "Department:Computer scince<br>\n",
    "EMAIL:  yetmul@gmail.com<br>\n",
    "my GITHUB ACCOUNT:</a>https://github.com/yetmwerk/Data-structure-and-Algorithms</a></h5></div>\n",
    "\n"
   ]
  },
  {
   "cell_type": "markdown",
   "id": "f9747056",
   "metadata": {},
   "source": [
    "<h1 style=\"color:yellow text-align:center\">convert infix to postfix expression using stack</h1>"
   ]
  },
  {
   "cell_type": "code",
   "execution_count": null,
   "id": "92ce74f3",
   "metadata": {},
   "outputs": [
    {
     "name": "stdout",
     "output_type": "stream",
     "text": [
      "Infix: 3 + 9 * 2 - ( 8 / 4 ) ^ 2\n",
      "Postfix: 3 9 2 * + 8 4 / 2 ^ -\n",
      "Result: 17.0\n"
     ]
    }
   ],
   "source": [
    "\n",
    "class Stack:\n",
    "    def __init__(self):\n",
    "        self.items = []  \n",
    "    def push(self, value):\n",
    "        self.items.append(value)\n",
    "    def pop(self):\n",
    "        if not self.is_empty():\n",
    "            return self.items.pop()\n",
    "        return None\n",
    "\n",
    "    def is_empty(self):\n",
    "        return len(self.items) == 0\n",
    "    def peek(self):\n",
    "        if not self.is_empty():\n",
    "            return self.items[-1]\n",
    "        return None\n",
    "def convert_infix_to_postfix(expression):\n",
    "    stack = Stack()\n",
    "    result = []\n",
    "    tokens = expression.split()\n",
    "    def get_precedence(op):\n",
    "        if op in ['+', '-']:\n",
    "            return 1\n",
    "        elif op in ['*', '/']:\n",
    "            return 2\n",
    "        elif op == '^':\n",
    "            return 3\n",
    "        return 0\n",
    "    for token in tokens:\n",
    "        if token.isnumeric():\n",
    "            result.append(token) \n",
    "        elif token == '(':\n",
    "            stack.push(token)\n",
    "        elif token == ')':\n",
    "            while not stack.is_empty() and stack.peek() != '(':\n",
    "                result.append(stack.pop())\n",
    "            stack.pop()  \n",
    "        else:\n",
    "            while (not stack.is_empty() and stack.peek() != '(' and\n",
    "                   get_precedence(token) <= get_precedence(stack.peek())):\n",
    "                result.append(stack.pop())\n",
    "            stack.push(token)\n",
    "    while not stack.is_empty():\n",
    "        result.append(stack.pop())\n",
    "    postfix = \"\"\n",
    "    for i in range(len(result)):\n",
    "        postfix += result[i]\n",
    "        if i < len(result) - 1:\n",
    "            postfix += \" \"  \n",
    "    return postfix\n",
    "def evaluate_postfix(expression):\n",
    "    stack = Stack()\n",
    "    tokens = expression.split()\n",
    "\n",
    "    for token in tokens:\n",
    "        if token in ['+', '-', '*', '/', '^']:\n",
    "            b = stack.pop()\n",
    "            a = stack.pop()\n",
    "            if token == '+':\n",
    "                res = a + b\n",
    "            elif token == '-':\n",
    "                res = a - b\n",
    "            elif token == '*':\n",
    "                res = a * b\n",
    "            elif token == '/':\n",
    "                res = a / b\n",
    "            elif token == '^':\n",
    "                res = a ** b\n",
    "\n",
    "            stack.push(res)\n",
    "        else:\n",
    "            stack.push(float(token))\n",
    "\n",
    "    return stack.pop()\n",
    "def show(expression):\n",
    "    print(\"Infix:\", expression)\n",
    "    postfix = convert_infix_to_postfix(expression)\n",
    "    print(\"Postfix:\", postfix)\n",
    "    result = evaluate_postfix(postfix)\n",
    "    print(\"Result:\", result)\n",
    "sample_expr = \"3 + 9 * 2 - ( 8 / 4 ) ^ 2\"\n",
    "show(sample_expr)\n"
   ]
  }
 ],
 "metadata": {
  "kernelspec": {
   "display_name": "Python 3",
   "language": "python",
   "name": "python3"
  },
  "language_info": {
   "codemirror_mode": {
    "name": "ipython",
    "version": 3
   },
   "file_extension": ".py",
   "mimetype": "text/x-python",
   "name": "python",
   "nbconvert_exporter": "python",
   "pygments_lexer": "ipython3",
   "version": "3.13.1"
  }
 },
 "nbformat": 4,
 "nbformat_minor": 5
}
