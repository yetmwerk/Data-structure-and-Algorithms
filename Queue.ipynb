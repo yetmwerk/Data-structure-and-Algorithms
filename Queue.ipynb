{
 "cells": [
  {
   "cell_type": "code",
   "execution_count": 8,
   "id": "bfd575e4",
   "metadata": {},
   "outputs": [],
   "source": [
    "class Quene:\n",
    "    def _init__(self):\n",
    "        self.item=[]\n",
    "        self.front=None\n",
    "        self.rear=None\n",
    "    def enqueue(self,item):\n",
    "        self.item.append(item)\n",
    "    def dequeue(self):\n",
    "        if len(self.item)==0:\n",
    "            return \"empty queue\"\n",
    "        else:\n",
    "           return self.item.pop(0)\n",
    "    def peek(self):\n",
    "        if not self.is_empty():\n",
    "             return self.item[0]\n",
    "    def len(self):\n",
    "        return len(self.item)\n",
    "    def display(self):\n",
    "        print(self.item)\n",
    "        "
   ]
  },
  {
   "cell_type": "code",
   "execution_count": 9,
   "id": "8ea4c1ba",
   "metadata": {},
   "outputs": [],
   "source": [
    "Quene=Quene()"
   ]
  },
  {
   "cell_type": "code",
   "execution_count": null,
   "id": "18d06c88",
   "metadata": {},
   "outputs": [],
   "source": [
    "Quene.enqueue(2)"
   ]
  },
  {
   "cell_type": "code",
   "execution_count": 30,
   "id": "3937a9cf",
   "metadata": {},
   "outputs": [],
   "source": [
    "class queuepriority:\n",
    "    def __init__(self):\n",
    "        self.item=[]\n",
    "        self.front=None\n",
    "        self.rear=None\n",
    "    def enqueue(self,priority,item=0):\n",
    "        self.item.append([priority,item])\n",
    "        self.item.sort()\n",
    "    def dequeue(self):\n",
    "        if len(self.item)==0:\n",
    "            return\"empty queue\"\n",
    "        else:   \n",
    "            return self.item.pop(0)              \n",
    "    def len(self):\n",
    "        return len(self.item)\n",
    "    def display(self):\n",
    "        print(self.item)"
   ]
  },
  {
   "cell_type": "code",
   "execution_count": 31,
   "id": "f8e43485",
   "metadata": {},
   "outputs": [],
   "source": [
    "queuepriority=queuepriority()"
   ]
  },
  {
   "cell_type": "code",
   "execution_count": 34,
   "id": "a6e12f1b",
   "metadata": {},
   "outputs": [],
   "source": [
    "queuepriority.enqueue(1 ,6)"
   ]
  },
  {
   "cell_type": "code",
   "execution_count": 35,
   "id": "39695149",
   "metadata": {},
   "outputs": [
    {
     "name": "stdout",
     "output_type": "stream",
     "text": [
      "[[1, 6], [4, 6]]\n"
     ]
    }
   ],
   "source": [
    "queuepriority.display()"
   ]
  },
  {
   "cell_type": "code",
   "execution_count": null,
   "id": "1283d623",
   "metadata": {},
   "outputs": [],
   "source": []
  }
 ],
 "metadata": {
  "kernelspec": {
   "display_name": "Python 3",
   "language": "python",
   "name": "python3"
  },
  "language_info": {
   "codemirror_mode": {
    "name": "ipython",
    "version": 3
   },
   "file_extension": ".py",
   "mimetype": "text/x-python",
   "name": "python",
   "nbconvert_exporter": "python",
   "pygments_lexer": "ipython3",
   "version": "3.13.1"
  }
 },
 "nbformat": 4,
 "nbformat_minor": 5
}
