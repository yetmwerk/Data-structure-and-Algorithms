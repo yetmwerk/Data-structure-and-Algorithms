{
 "cells": [
  {
   "cell_type": "code",
   "execution_count": 34,
   "id": "b8c82413",
   "metadata": {},
   "outputs": [],
   "source": [
    "class stack:\n",
    "    def __init__(self):\n",
    "        self.values=[]\n",
    "    def push(self,data):\n",
    "        self.values.append(data)\n",
    "    def pop(self):\n",
    "        if  self.is_empty():\n",
    "            return\"empty stack\"\n",
    "        return self.values.pop()\n",
    "    def peek(self):\n",
    "        if self.is_empty():\n",
    "            return\"empty stack\"\n",
    "        return self.values[-1]\n",
    "    def is_empty(self):\n",
    "            return len(self.values) == 0\n",
    "    def display (self):\n",
    "            print (self.values)\n",
    "        "
   ]
  },
  {
   "cell_type": "code",
   "execution_count": 35,
   "id": "b5d9574c",
   "metadata": {},
   "outputs": [],
   "source": [
    "stack1=stack()"
   ]
  },
  {
   "cell_type": "code",
   "execution_count": 40,
   "id": "fd8719f6",
   "metadata": {},
   "outputs": [],
   "source": [
    "stack1.push(33)"
   ]
  },
  {
   "cell_type": "code",
   "execution_count": 49,
   "id": "3e1dc620",
   "metadata": {},
   "outputs": [
    {
     "data": {
      "text/plain": [
       "39"
      ]
     },
     "execution_count": 49,
     "metadata": {},
     "output_type": "execute_result"
    }
   ],
   "source": [
    "stack1.peek()"
   ]
  },
  {
   "cell_type": "code",
   "execution_count": 42,
   "id": "c2725da3",
   "metadata": {},
   "outputs": [],
   "source": [
    "stack1.push(4)"
   ]
  },
  {
   "cell_type": "code",
   "execution_count": 45,
   "id": "363307ec",
   "metadata": {},
   "outputs": [
    {
     "name": "stdout",
     "output_type": "stream",
     "text": [
      "[33, 39, 33, 4]\n"
     ]
    }
   ],
   "source": [
    "stack1.display()"
   ]
  },
  {
   "cell_type": "code",
   "execution_count": 48,
   "id": "dbd3ad4f",
   "metadata": {},
   "outputs": [
    {
     "data": {
      "text/plain": [
       "33"
      ]
     },
     "execution_count": 48,
     "metadata": {},
     "output_type": "execute_result"
    }
   ],
   "source": [
    "stack1.pop()"
   ]
  },
  {
   "cell_type": "code",
   "execution_count": null,
   "id": "69bd7f8e",
   "metadata": {},
   "outputs": [],
   "source": []
  }
 ],
 "metadata": {
  "kernelspec": {
   "display_name": "Python 3",
   "language": "python",
   "name": "python3"
  },
  "language_info": {
   "codemirror_mode": {
    "name": "ipython",
    "version": 3
   },
   "file_extension": ".py",
   "mimetype": "text/x-python",
   "name": "python",
   "nbconvert_exporter": "python",
   "pygments_lexer": "ipython3",
   "version": "3.13.1"
  }
 },
 "nbformat": 4,
 "nbformat_minor": 5
}
